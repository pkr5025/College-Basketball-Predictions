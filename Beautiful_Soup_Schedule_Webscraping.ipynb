{
 "cells": [
  {
   "cell_type": "code",
   "execution_count": 21,
   "metadata": {},
   "outputs": [],
   "source": [
    "import pandas as pd\n",
    "import requests\n",
    "from bs4 import BeautifulSoup"
   ]
  },
  {
   "cell_type": "code",
   "execution_count": 27,
   "metadata": {},
   "outputs": [],
   "source": [
    "month, day, year = 11, 5, 2019\n",
    "url = 'https://www.sports-reference.com/cbb/boxscores/index.cgi?month='+str(month)+'&day='+str(day)+'&year='+str(year)\n",
    "#url = 'https://www.sports-reference.com/cbb/boxscores/index.cgi?month=11&day=5&year=2019'\n",
    "page = requests.get(url)\n",
    "soup = BeautifulSoup(page.content, 'html.parser')\n"
   ]
  },
  {
   "cell_type": "code",
   "execution_count": 7,
   "metadata": {},
   "outputs": [
    {
     "data": {
      "text/plain": [
       "'Michigan State'"
      ]
     },
     "execution_count": 7,
     "metadata": {},
     "output_type": "execute_result"
    }
   ],
   "source": [
    "soup.find('td').find('a').text"
   ]
  },
  {
   "cell_type": "code",
   "execution_count": 53,
   "metadata": {},
   "outputs": [],
   "source": [
    "scores = soup.find_all('td')\n",
    "#for score in scores:\n",
    "#    print(score)\n"
   ]
  },
  {
   "cell_type": "code",
   "execution_count": 51,
   "metadata": {},
   "outputs": [
    {
     "name": "stdout",
     "output_type": "stream",
     "text": [
      "Michigan State\n",
      "62\n",
      "Kentucky\n",
      "69\n"
     ]
    }
   ],
   "source": [
    "i=0\n",
    "for score in scores:\n",
    "    if i%6 in [0,3]:\n",
    "        print(score.find('a').text)\n",
    "    if i%6 in [1,4]:\n",
    "        print(int(score.text))\n",
    "    i+=1\n",
    "    if i == 6:\n",
    "        break"
   ]
  },
  {
   "cell_type": "code",
   "execution_count": 36,
   "metadata": {},
   "outputs": [],
   "source": [
    "visitor_neutral = []\n",
    "home_neutral = []\n",
    "v_score = []\n",
    "h_score =[]\n",
    "dates = []\n",
    "date =str(month)+'/'+str(day)+'/'+str(year)\n",
    "i=0\n",
    "for info in scores:\n",
    "    if i%6 == 0:\n",
    "        visitor_neutral.append(info.find('a').text)\n",
    "    elif i%6 == 3:\n",
    "        home_neutral.append(info.find('a').text)\n",
    "    elif i%6 == 1:\n",
    "        v_score.append(int(info.text))\n",
    "    elif i%6 == 4:\n",
    "        h_score.append(int(info.text))\n",
    "    else:\n",
    "        dates.append(date)\n",
    "    i+=1"
   ]
  },
  {
   "cell_type": "code",
   "execution_count": 37,
   "metadata": {},
   "outputs": [
    {
     "name": "stdout",
     "output_type": "stream",
     "text": [
      "Michigan State 62 Kentucky 69\n"
     ]
    }
   ],
   "source": [
    "print(visitor_neutral[0], v_score[0], home_neutral[0], h_score[0])"
   ]
  },
  {
   "cell_type": "code",
   "execution_count": 48,
   "metadata": {},
   "outputs": [
    {
     "data": {
      "text/html": [
       "<div>\n",
       "<style scoped>\n",
       "    .dataframe tbody tr th:only-of-type {\n",
       "        vertical-align: middle;\n",
       "    }\n",
       "\n",
       "    .dataframe tbody tr th {\n",
       "        vertical-align: top;\n",
       "    }\n",
       "\n",
       "    .dataframe thead th {\n",
       "        text-align: right;\n",
       "    }\n",
       "</style>\n",
       "<table border=\"1\" class=\"dataframe\">\n",
       "  <thead>\n",
       "    <tr style=\"text-align: right;\">\n",
       "      <th></th>\n",
       "      <th>Date</th>\n",
       "      <th>visitor_neutral</th>\n",
       "      <th>PTS</th>\n",
       "      <th>home_neutral</th>\n",
       "      <th>PTS</th>\n",
       "    </tr>\n",
       "  </thead>\n",
       "  <tbody>\n",
       "    <tr>\n",
       "      <th>0</th>\n",
       "      <td>2019-11-05</td>\n",
       "      <td>Michigan State</td>\n",
       "      <td>62</td>\n",
       "      <td>Kentucky</td>\n",
       "      <td>69</td>\n",
       "    </tr>\n",
       "    <tr>\n",
       "      <th>1</th>\n",
       "      <td>2019-11-05</td>\n",
       "      <td>Kansas</td>\n",
       "      <td>66</td>\n",
       "      <td>Duke</td>\n",
       "      <td>68</td>\n",
       "    </tr>\n",
       "    <tr>\n",
       "      <th>2</th>\n",
       "      <td>2019-11-05</td>\n",
       "      <td>Louisville</td>\n",
       "      <td>87</td>\n",
       "      <td>Miami (FL)</td>\n",
       "      <td>74</td>\n",
       "    </tr>\n",
       "    <tr>\n",
       "      <th>3</th>\n",
       "      <td>2019-11-05</td>\n",
       "      <td>North Florida</td>\n",
       "      <td>59</td>\n",
       "      <td>Florida</td>\n",
       "      <td>74</td>\n",
       "    </tr>\n",
       "    <tr>\n",
       "      <th>4</th>\n",
       "      <td>2019-11-05</td>\n",
       "      <td>Holy Cross</td>\n",
       "      <td>71</td>\n",
       "      <td>Maryland</td>\n",
       "      <td>95</td>\n",
       "    </tr>\n",
       "  </tbody>\n",
       "</table>\n",
       "</div>"
      ],
      "text/plain": [
       "        Date visitor_neutral  PTS home_neutral  PTS\n",
       "0 2019-11-05  Michigan State   62     Kentucky   69\n",
       "1 2019-11-05          Kansas   66         Duke   68\n",
       "2 2019-11-05      Louisville   87   Miami (FL)   74\n",
       "3 2019-11-05   North Florida   59      Florida   74\n",
       "4 2019-11-05      Holy Cross   71     Maryland   95"
      ]
     },
     "execution_count": 48,
     "metadata": {},
     "output_type": "execute_result"
    }
   ],
   "source": [
    "df = pd.DataFrame(zip(dates, visitor_neutral, v_score, home_neutral, h_score), \n",
    "               columns =['Date','visitor_neutral', 'PTS','home_neutral','PTS']) \n",
    "df['Date']= pd.to_datetime(df['Date'])\n",
    "df.head()"
   ]
  },
  {
   "cell_type": "code",
   "execution_count": 58,
   "metadata": {},
   "outputs": [],
   "source": [
    "month, day, year = 11, 5, 2019\n",
    "visitor_neutral = []\n",
    "home_neutral = []\n",
    "v_score = []\n",
    "h_score =[]\n",
    "dates = []\n",
    "master_df = pd.DataFrame()\n",
    "date =str(month)+'/'+str(day)+'/'+str(year)\n",
    "while(day<=30):\n",
    "#reset lists\n",
    "    visitor_neutral = []\n",
    "    home_neutral = []\n",
    "    v_score = []\n",
    "    h_score =[]\n",
    "    dates = []\n",
    "    date =str(month)+'/'+str(day)+'/'+str(year)\n",
    "#Get score page for date\n",
    "    url = 'https://www.sports-reference.com/cbb/boxscores/index.cgi?month='+str(month)+'&day='+str(day)+'&year='+str(year)\n",
    "    page = requests.get(url)\n",
    "    soup = BeautifulSoup(page.content, 'html.parser')\n",
    "    scores = soup.find_all('td')\n",
    "#get lists of all games / scores\n",
    "    i=0\n",
    "    for info in scores:\n",
    "        if i%6 == 0:\n",
    "            visitor_neutral.append(info.find('a').text)\n",
    "        elif i%6 == 3:\n",
    "            home_neutral.append(info.find('a').text)\n",
    "        elif i%6 == 1:\n",
    "            v_score.append(int(info.text))\n",
    "        elif i%6 == 4:\n",
    "            h_score.append(int(info.text))\n",
    "        else:\n",
    "            dates.append(date)\n",
    "        i+=1\n",
    "#make dataframe of lists\n",
    "    df = pd.DataFrame(zip(dates, visitor_neutral, v_score, home_neutral, h_score), \n",
    "               columns =['Date','visitor_neutral', 'PTS','home_neutral','PTS']) \n",
    "    df['Date']= pd.to_datetime(df['Date'])\n",
    "#combine with master dataframe\n",
    "    master_df = pd.concat([master_df, df])\n",
    "# increment day\n",
    "    day+=1\n",
    "\n",
    "    \n",
    "\n",
    "    "
   ]
  },
  {
   "cell_type": "code",
   "execution_count": 60,
   "metadata": {},
   "outputs": [
    {
     "data": {
      "text/html": [
       "<div>\n",
       "<style scoped>\n",
       "    .dataframe tbody tr th:only-of-type {\n",
       "        vertical-align: middle;\n",
       "    }\n",
       "\n",
       "    .dataframe tbody tr th {\n",
       "        vertical-align: top;\n",
       "    }\n",
       "\n",
       "    .dataframe thead th {\n",
       "        text-align: right;\n",
       "    }\n",
       "</style>\n",
       "<table border=\"1\" class=\"dataframe\">\n",
       "  <thead>\n",
       "    <tr style=\"text-align: right;\">\n",
       "      <th></th>\n",
       "      <th>Date</th>\n",
       "      <th>visitor_neutral</th>\n",
       "      <th>PTS</th>\n",
       "      <th>home_neutral</th>\n",
       "      <th>PTS</th>\n",
       "    </tr>\n",
       "  </thead>\n",
       "  <tbody>\n",
       "    <tr>\n",
       "      <th>0</th>\n",
       "      <td>2019-11-05</td>\n",
       "      <td>Michigan State</td>\n",
       "      <td>62</td>\n",
       "      <td>Kentucky</td>\n",
       "      <td>69</td>\n",
       "    </tr>\n",
       "  </tbody>\n",
       "</table>\n",
       "</div>"
      ],
      "text/plain": [
       "        Date visitor_neutral  PTS home_neutral  PTS\n",
       "0 2019-11-05  Michigan State   62     Kentucky   69"
      ]
     },
     "execution_count": 60,
     "metadata": {},
     "output_type": "execute_result"
    }
   ],
   "source": [
    "master_df.head(1)"
   ]
  },
  {
   "cell_type": "code",
   "execution_count": 61,
   "metadata": {},
   "outputs": [
    {
     "data": {
      "text/html": [
       "<div>\n",
       "<style scoped>\n",
       "    .dataframe tbody tr th:only-of-type {\n",
       "        vertical-align: middle;\n",
       "    }\n",
       "\n",
       "    .dataframe tbody tr th {\n",
       "        vertical-align: top;\n",
       "    }\n",
       "\n",
       "    .dataframe thead th {\n",
       "        text-align: right;\n",
       "    }\n",
       "</style>\n",
       "<table border=\"1\" class=\"dataframe\">\n",
       "  <thead>\n",
       "    <tr style=\"text-align: right;\">\n",
       "      <th></th>\n",
       "      <th>Date</th>\n",
       "      <th>visitor_neutral</th>\n",
       "      <th>PTS</th>\n",
       "      <th>home_neutral</th>\n",
       "      <th>PTS</th>\n",
       "    </tr>\n",
       "  </thead>\n",
       "  <tbody>\n",
       "    <tr>\n",
       "      <th>63</th>\n",
       "      <td>2019-11-30</td>\n",
       "      <td>Youngstown State</td>\n",
       "      <td>72</td>\n",
       "      <td>Central Michigan</td>\n",
       "      <td>88</td>\n",
       "    </tr>\n",
       "  </tbody>\n",
       "</table>\n",
       "</div>"
      ],
      "text/plain": [
       "         Date   visitor_neutral  PTS      home_neutral  PTS\n",
       "63 2019-11-30  Youngstown State   72  Central Michigan   88"
      ]
     },
     "execution_count": 61,
     "metadata": {},
     "output_type": "execute_result"
    }
   ],
   "source": [
    "master_df.tail(1)"
   ]
  },
  {
   "cell_type": "code",
   "execution_count": null,
   "metadata": {},
   "outputs": [],
   "source": []
  }
 ],
 "metadata": {
  "kernelspec": {
   "display_name": "Python 3",
   "language": "python",
   "name": "python3"
  },
  "language_info": {
   "codemirror_mode": {
    "name": "ipython",
    "version": 3
   },
   "file_extension": ".py",
   "mimetype": "text/x-python",
   "name": "python",
   "nbconvert_exporter": "python",
   "pygments_lexer": "ipython3",
   "version": "3.7.3"
  }
 },
 "nbformat": 4,
 "nbformat_minor": 2
}
