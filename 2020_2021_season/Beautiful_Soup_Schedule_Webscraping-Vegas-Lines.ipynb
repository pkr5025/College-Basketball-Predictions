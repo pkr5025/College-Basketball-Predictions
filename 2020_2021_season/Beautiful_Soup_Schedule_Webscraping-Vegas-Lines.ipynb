{
 "cells": [
  {
   "cell_type": "code",
   "execution_count": 1,
   "metadata": {},
   "outputs": [],
   "source": [
    "import datetime as dt\n",
    "import pandas as pd\n",
    "import requests\n",
    "from bs4 import BeautifulSoup"
   ]
  },
  {
   "cell_type": "code",
   "execution_count": 2,
   "metadata": {},
   "outputs": [],
   "source": [
    "today = dt.date.today()\n",
    "month, day, year = today.strftime(\"%m\"), today.strftime(\"%d\"), today.strftime(\"%Y\")"
   ]
  },
  {
   "cell_type": "code",
   "execution_count": 3,
   "metadata": {
    "scrolled": true
   },
   "outputs": [],
   "source": [
    "### input date ###\n",
    "### returns dataframe ###\n",
    "\n",
    "def get_days_games(year, month, day):\n",
    "# convert date into strings if needed\n",
    "    year, month, day = str(year), str(month), str(day)\n",
    "    \n",
    "    url = 'https://www.covers.com/sports/ncaab/matchups?selectedDate='\n",
    "    url = url+year+\"-\"+month+\"-\"+day\n",
    "    page = requests.get(url)\n",
    "    soup = BeautifulSoup(page.content, 'html.parser')\n",
    "    games = soup.find_all(\"div\", class_=\"cmg_matchup_game_box cmg_game_data\")\n",
    "    visitor = []\n",
    "    home = []\n",
    "    date = []\n",
    "    line = []\n",
    "    for game in games:\n",
    "        visitor.append(game[\"data-away-team-fullname-search\"])\n",
    "        home.append(game[\"data-home-team-fullname-search\"])\n",
    "        date.append(game[\"data-game-date\"])\n",
    "        line.append(game[\"data-game-odd\"])\n",
    "    return pd.DataFrame(zip(date, home, visitor, line), columns = [\"Date\", \"Home\", \"Away\", \"Line\"])"
   ]
  },
  {
   "cell_type": "code",
   "execution_count": 4,
   "metadata": {},
   "outputs": [],
   "source": [
    "def get_range_of_days_games(year, month, day, year_f, month_f, day_f):\n",
    "\n",
    "# initialize variables    \n",
    "    current_date = dt.date(year, month, day)\n",
    "    visitor, home, date, line = [], [], [], []\n",
    "    master_df = pd.DataFrame()\n",
    "                            \n",
    "    while(current_date != dt.date(year_f, month_f, day_f)):\n",
    "        \n",
    "# reset lists\n",
    "        visitor, home, date, line = [], [], [], []\n",
    "# get todays lines\n",
    "        df = get_days_games(year, month, day)\n",
    "#combine with master\n",
    "        master_df = pd.concat([master_df, df])                \n",
    "# increment day, month, year\n",
    "        current_date += dt.timedelta(days=1)\n",
    "        day = current_date.day\n",
    "        month = current_date.month\n",
    "        year = current_date.year\n",
    "    return master_df\n"
   ]
  },
  {
   "cell_type": "code",
   "execution_count": 5,
   "metadata": {
    "scrolled": true
   },
   "outputs": [],
   "source": [
    "df = get_range_of_days_games(2020,11, 25, 2021, 3,7)"
   ]
  },
  {
   "cell_type": "code",
   "execution_count": 6,
   "metadata": {},
   "outputs": [],
   "source": [
    "df = df[df.duplicated()==False]"
   ]
  },
  {
   "cell_type": "code",
   "execution_count": 7,
   "metadata": {},
   "outputs": [
    {
     "data": {
      "text/html": [
       "<div>\n",
       "<style scoped>\n",
       "    .dataframe tbody tr th:only-of-type {\n",
       "        vertical-align: middle;\n",
       "    }\n",
       "\n",
       "    .dataframe tbody tr th {\n",
       "        vertical-align: top;\n",
       "    }\n",
       "\n",
       "    .dataframe thead th {\n",
       "        text-align: right;\n",
       "    }\n",
       "</style>\n",
       "<table border=\"1\" class=\"dataframe\">\n",
       "  <thead>\n",
       "    <tr style=\"text-align: right;\">\n",
       "      <th></th>\n",
       "      <th>Date</th>\n",
       "      <th>Home</th>\n",
       "      <th>Away</th>\n",
       "      <th>Line</th>\n",
       "    </tr>\n",
       "  </thead>\n",
       "  <tbody>\n",
       "    <tr>\n",
       "      <th>2</th>\n",
       "      <td>2020-12-25 18:00:00</td>\n",
       "      <td>Nebraska</td>\n",
       "      <td>Michigan</td>\n",
       "      <td>7.5</td>\n",
       "    </tr>\n",
       "    <tr>\n",
       "      <th>11</th>\n",
       "      <td>2020-12-31 20:00:00</td>\n",
       "      <td>Maryland</td>\n",
       "      <td>Michigan</td>\n",
       "      <td>2</td>\n",
       "    </tr>\n",
       "    <tr>\n",
       "      <th>125</th>\n",
       "      <td>2021-01-09 14:15:00</td>\n",
       "      <td>Penn St.</td>\n",
       "      <td>Michigan</td>\n",
       "      <td></td>\n",
       "    </tr>\n",
       "    <tr>\n",
       "      <th>17</th>\n",
       "      <td>2021-01-16 14:00:00</td>\n",
       "      <td>Minnesota</td>\n",
       "      <td>Michigan</td>\n",
       "      <td>5.5</td>\n",
       "    </tr>\n",
       "    <tr>\n",
       "      <th>9</th>\n",
       "      <td>2021-01-22 19:00:00</td>\n",
       "      <td>Purdue</td>\n",
       "      <td>Michigan</td>\n",
       "      <td>5</td>\n",
       "    </tr>\n",
       "    <tr>\n",
       "      <th>40</th>\n",
       "      <td>2021-01-27 19:00:00</td>\n",
       "      <td>Penn St.</td>\n",
       "      <td>Michigan</td>\n",
       "      <td></td>\n",
       "    </tr>\n",
       "    <tr>\n",
       "      <th>32</th>\n",
       "      <td>2021-02-03 21:00:00</td>\n",
       "      <td>Northwestern</td>\n",
       "      <td>Michigan</td>\n",
       "      <td></td>\n",
       "    </tr>\n",
       "    <tr>\n",
       "      <th>4</th>\n",
       "      <td>2021-02-14 13:00:00</td>\n",
       "      <td>Wisconsin</td>\n",
       "      <td>Michigan</td>\n",
       "      <td>0</td>\n",
       "    </tr>\n",
       "    <tr>\n",
       "      <th>6</th>\n",
       "      <td>2021-02-21 13:00:00</td>\n",
       "      <td>Ohio St.</td>\n",
       "      <td>Michigan</td>\n",
       "      <td>1.5</td>\n",
       "    </tr>\n",
       "    <tr>\n",
       "      <th>6</th>\n",
       "      <td>2021-02-27 12:00:00</td>\n",
       "      <td>Indiana</td>\n",
       "      <td>Michigan</td>\n",
       "      <td></td>\n",
       "    </tr>\n",
       "  </tbody>\n",
       "</table>\n",
       "</div>"
      ],
      "text/plain": [
       "                    Date          Home      Away Line\n",
       "2    2020-12-25 18:00:00      Nebraska  Michigan  7.5\n",
       "11   2020-12-31 20:00:00      Maryland  Michigan    2\n",
       "125  2021-01-09 14:15:00      Penn St.  Michigan     \n",
       "17   2021-01-16 14:00:00     Minnesota  Michigan  5.5\n",
       "9    2021-01-22 19:00:00        Purdue  Michigan    5\n",
       "40   2021-01-27 19:00:00      Penn St.  Michigan     \n",
       "32   2021-02-03 21:00:00  Northwestern  Michigan     \n",
       "4    2021-02-14 13:00:00     Wisconsin  Michigan    0\n",
       "6    2021-02-21 13:00:00      Ohio St.  Michigan  1.5\n",
       "6    2021-02-27 12:00:00       Indiana  Michigan     "
      ]
     },
     "execution_count": 7,
     "metadata": {},
     "output_type": "execute_result"
    }
   ],
   "source": [
    "df[df['Away']==\"Michigan\"]"
   ]
  },
  {
   "cell_type": "code",
   "execution_count": 8,
   "metadata": {},
   "outputs": [],
   "source": [
    "df.to_csv(\"2020_2021_lines.csv\")"
   ]
  },
  {
   "cell_type": "code",
   "execution_count": null,
   "metadata": {},
   "outputs": [],
   "source": []
  }
 ],
 "metadata": {
  "kernelspec": {
   "display_name": "Python 3",
   "language": "python",
   "name": "python3"
  },
  "language_info": {
   "codemirror_mode": {
    "name": "ipython",
    "version": 3
   },
   "file_extension": ".py",
   "mimetype": "text/x-python",
   "name": "python",
   "nbconvert_exporter": "python",
   "pygments_lexer": "ipython3",
   "version": "3.7.3"
  }
 },
 "nbformat": 4,
 "nbformat_minor": 2
}
